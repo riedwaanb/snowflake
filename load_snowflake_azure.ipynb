{
 "cells": [
  {
   "cell_type": "markdown",
   "metadata": {},
   "source": [
    "# Loading Snowflake from Azure Blob with the Python SDK\n",
    "\n",
    "This example loads a snowflake table from Azure blob storage with the Python SDK. We abstract some of the workings like handling query files with a simple wrapper class."
   ]
  },
  {
   "cell_type": "markdown",
   "metadata": {},
   "source": [
    "### Create snowflake wrapper class"
   ]
  },
  {
   "cell_type": "code",
   "execution_count": 2,
   "metadata": {},
   "outputs": [
    {
     "name": "stdout",
     "output_type": "stream",
     "text": [
      "Overwriting ./snowq.py\n"
     ]
    }
   ],
   "source": [
    "#%%writefile ./snowq.py\n",
    "import snowflake.connector\n",
    "import pandas as pd\n",
    "\n",
    "class snowQ(object):\n",
    "    def __init__(self, user: str, password: str, account: str):\n",
    "        self.user = user\n",
    "        self.account = account\n",
    "        self.ctx = snowflake.connector.connect(user=user,\n",
    "                                               password=password,\n",
    "                                               account=account)\n",
    "        cs = self.ctx.cursor()\n",
    "        try:\n",
    "            cs.execute(\"SELECT current_version()\")\n",
    "            one_row = cs.fetchone()\n",
    "            self.version = one_row[0]\n",
    "        finally:\n",
    "            cs.close()\n",
    "    \n",
    "    def __del__(self):\n",
    "        self.ctx.close()\n",
    "    \n",
    "    # Execute Query\n",
    "    def sql(self, query: str, timeout=10):\n",
    "        cs = self.ctx.cursor()\n",
    "        try:\n",
    "            cs.execute(query, timeout=timeout)\n",
    "        except Exception as e:\n",
    "            if e.errno == 604:\n",
    "                print(\"Query Timeout, rolling back\")\n",
    "                cs.execute(\"rollback\")\n",
    "            else:\n",
    "                raise e\n",
    "        return cs\n",
    "    \n",
    "    # Execute Query providing a SQL file that holds the Query\n",
    "    def sqlf(self, filename: str, timeout=10):\n",
    "        cs = self.ctx.cursor()\n",
    "\n",
    "        if len(filename) > 0:\n",
    "            with open(filename, 'r') as file:\n",
    "                query = file.read().replace('\\n', '')\n",
    "                file.close()\n",
    "        return self.sql(query, timeout)"
   ]
  },
  {
   "cell_type": "markdown",
   "metadata": {},
   "source": [
    "### Load Snowflake wrapper class"
   ]
  },
  {
   "cell_type": "code",
   "execution_count": 3,
   "metadata": {},
   "outputs": [],
   "source": [
    "import snowflake.connector\n",
    "#from snowq import snowQ    # Import the wrapper\n",
    "\n",
    "keyvault = ws.get_default_keyvault()\n",
    "snow=snowQ(user='XXXXX', password='XXXXX', account='XXXXX.west-europe.azure')"
   ]
  },
  {
   "cell_type": "code",
   "execution_count": 4,
   "metadata": {},
   "outputs": [
    {
     "data": {
      "text/plain": [
       "'4.11.2'"
      ]
     },
     "execution_count": 4,
     "metadata": {},
     "output_type": "execute_result"
    }
   ],
   "source": [
    "snow.version"
   ]
  },
  {
   "cell_type": "markdown",
   "metadata": {},
   "source": [
    "### Create a file with the desired query"
   ]
  },
  {
   "cell_type": "code",
   "execution_count": 1,
   "metadata": {},
   "outputs": [
    {
     "name": "stdout",
     "output_type": "stream",
     "text": [
      "Overwriting ./load_azure_customers.sql\n"
     ]
    }
   ],
   "source": [
    "%%writefile ./load_azure_customers.sql\n",
    "copy into \"SNOWPIPE_DEMO\".\"PUBLIC\".\"CUSTOMERS\"\n",
    "  from 'azure://dataeu.blob.core.windows.net/snowflake/sales/customers'\n",
    "  credentials=(azure_sas_token='?XXXXXXXXXXXXXXXXXXXXXXXXXXXXXXXXXXXXXXXXXXXXXXXX')\n",
    "  file_format = (type = csv field_delimiter = ',' skip_header = 1, FIELD_OPTIONALLY_ENCLOSED_BY='\"')"
   ]
  },
  {
   "cell_type": "code",
   "execution_count": 6,
   "metadata": {},
   "outputs": [
    {
     "data": {
      "text/plain": [
       "'Statement executed successfully.'"
      ]
     },
     "execution_count": 6,
     "metadata": {},
     "output_type": "execute_result"
    }
   ],
   "source": [
    "c = snow.sql('TRUNCATE TABLE \"SNOWPIPE_DEMO\".\"PUBLIC\".\"CUSTOMERS\"')\n",
    "c.fetchone()[0]"
   ]
  },
  {
   "cell_type": "code",
   "execution_count": 7,
   "metadata": {},
   "outputs": [
    {
     "data": {
      "text/plain": [
       "'Statement executed successfully.'"
      ]
     },
     "execution_count": 7,
     "metadata": {},
     "output_type": "execute_result"
    }
   ],
   "source": [
    "# Truncate the table and show results\n",
    "snow.sql('TRUNCATE TABLE \"SNOWPIPE_DEMO\".\"PUBLIC\".\"CUSTOMERS\"').fetchone()[0]"
   ]
  },
  {
   "cell_type": "code",
   "execution_count": 8,
   "metadata": {},
   "outputs": [
    {
     "data": {
      "text/plain": [
       "'azure://dataeu.blob.core.windows.net/snowflake/sales/customers'"
      ]
     },
     "execution_count": 8,
     "metadata": {},
     "output_type": "execute_result"
    }
   ],
   "source": [
    "# Load files from using the query in the file\n",
    "snow.sqlf('load_azure_customers.sql').fetchone()[0]"
   ]
  },
  {
   "cell_type": "code",
   "execution_count": 9,
   "metadata": {},
   "outputs": [
    {
     "data": {
      "text/html": [
       "<div>\n",
       "<style scoped>\n",
       "    .dataframe tbody tr th:only-of-type {\n",
       "        vertical-align: middle;\n",
       "    }\n",
       "\n",
       "    .dataframe tbody tr th {\n",
       "        vertical-align: top;\n",
       "    }\n",
       "\n",
       "    .dataframe thead th {\n",
       "        text-align: right;\n",
       "    }\n",
       "</style>\n",
       "<table border=\"1\" class=\"dataframe\">\n",
       "  <thead>\n",
       "    <tr style=\"text-align: right;\">\n",
       "      <th></th>\n",
       "      <th>CUSTOMERID</th>\n",
       "      <th>CUSTOMERNAME</th>\n",
       "    </tr>\n",
       "  </thead>\n",
       "  <tbody>\n",
       "    <tr>\n",
       "      <th>0</th>\n",
       "      <td>1</td>\n",
       "      <td>Tailspin Toys (Head Office)</td>\n",
       "    </tr>\n",
       "    <tr>\n",
       "      <th>1</th>\n",
       "      <td>2</td>\n",
       "      <td>Tailspin Toys (Sylvanite, MT)</td>\n",
       "    </tr>\n",
       "    <tr>\n",
       "      <th>2</th>\n",
       "      <td>3</td>\n",
       "      <td>Tailspin Toys (Peeples Valley, AZ)</td>\n",
       "    </tr>\n",
       "    <tr>\n",
       "      <th>3</th>\n",
       "      <td>4</td>\n",
       "      <td>Tailspin Toys (Medicine Lodge, KS)</td>\n",
       "    </tr>\n",
       "    <tr>\n",
       "      <th>4</th>\n",
       "      <td>5</td>\n",
       "      <td>Tailspin Toys (Gasport, NY)</td>\n",
       "    </tr>\n",
       "    <tr>\n",
       "      <th>...</th>\n",
       "      <td>...</td>\n",
       "      <td>...</td>\n",
       "    </tr>\n",
       "    <tr>\n",
       "      <th>658</th>\n",
       "      <td>1057</td>\n",
       "      <td>Ganesh Majumdar</td>\n",
       "    </tr>\n",
       "    <tr>\n",
       "      <th>659</th>\n",
       "      <td>1058</td>\n",
       "      <td>Jaroslav Fisar</td>\n",
       "    </tr>\n",
       "    <tr>\n",
       "      <th>660</th>\n",
       "      <td>1059</td>\n",
       "      <td>Jibek Juniskyzy</td>\n",
       "    </tr>\n",
       "    <tr>\n",
       "      <th>661</th>\n",
       "      <td>1060</td>\n",
       "      <td>Anand Mudaliyar</td>\n",
       "    </tr>\n",
       "    <tr>\n",
       "      <th>662</th>\n",
       "      <td>1061</td>\n",
       "      <td>Agrita Abele</td>\n",
       "    </tr>\n",
       "  </tbody>\n",
       "</table>\n",
       "<p>663 rows × 2 columns</p>\n",
       "</div>"
      ],
      "text/plain": [
       "     CUSTOMERID                        CUSTOMERNAME\n",
       "0    1           Tailspin Toys (Head Office)       \n",
       "1    2           Tailspin Toys (Sylvanite, MT)     \n",
       "2    3           Tailspin Toys (Peeples Valley, AZ)\n",
       "3    4           Tailspin Toys (Medicine Lodge, KS)\n",
       "4    5           Tailspin Toys (Gasport, NY)       \n",
       "..  ..                                   ...       \n",
       "658  1057        Ganesh Majumdar                   \n",
       "659  1058        Jaroslav Fisar                    \n",
       "660  1059        Jibek Juniskyzy                   \n",
       "661  1060        Anand Mudaliyar                   \n",
       "662  1061        Agrita Abele                      \n",
       "\n",
       "[663 rows x 2 columns]"
      ]
     },
     "execution_count": 9,
     "metadata": {},
     "output_type": "execute_result"
    }
   ],
   "source": [
    "snow.sql('select * from \"SNOWPIPE_DEMO\".\"PUBLIC\".\"CUSTOMERS\" ORDER BY CUSTOMERID;').fetch_pandas_all()"
   ]
  }
 ],
 "metadata": {
  "kernelspec": {
   "display_name": "Python 3",
   "language": "python",
   "name": "python3"
  },
  "language_info": {
   "codemirror_mode": {
    "name": "ipython",
    "version": 3
   },
   "file_extension": ".py",
   "mimetype": "text/x-python",
   "name": "python",
   "nbconvert_exporter": "python",
   "pygments_lexer": "ipython3",
   "version": "3.6.10"
  }
 },
 "nbformat": 4,
 "nbformat_minor": 4
}
